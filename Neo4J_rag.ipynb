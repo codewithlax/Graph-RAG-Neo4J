{
 "cells": [
  {
   "cell_type": "code",
   "execution_count": null,
   "metadata": {},
   "outputs": [],
   "source": [
    "!pip install --upgrade --quiet  langchain langchain-community langchain-ollama langchain-experimental neo4j tiktoken yfiles_jupyter_graphs python-dotenv json-repair langchain-openai langchain_core\n"
   ]
  },
  {
   "cell_type": "code",
   "execution_count": 20,
   "metadata": {},
   "outputs": [],
   "source": [
    "import streamlit as st\n",
    "import os\n",
    "from langchain_groq import ChatGroq\n",
    "# from langchain_openai import OpenAIEmbeddings\n",
    "from langchain_community.embeddings import OllamaEmbeddings\n",
    "from langchain.text_splitter import RecursiveCharacterTextSplitter\n",
    "from langchain_core.prompts import ChatPromptTemplate\n",
    "from langchain.chains.combine_documents import create_stuff_documents_chain\n",
    "from langchain.chains import create_retrieval_chain\n",
    "from langchain_community.document_loaders import TextLoader\n",
    "from langchain_community.vectorstores import FAISS\n",
    "from dotenv import load_dotenv\n",
    "\n",
    "load_dotenv()\n",
    "\n",
    "\n",
    "# Graph related imports:\n",
    "\n",
    "from langchain_experimental.graph_transformers import LLMGraphTransformer\n",
    "from yfiles_jupyter_graphs import GraphWidget\n",
    "from langchain.vectorstores import Neo4jVector\n",
    "from langchain_community.graphs import Neo4jGraph\n",
    "from neo4j import GraphDatabase\n",
    "from pydantic import BaseModel, Field\n",
    "from langchain_community.vectorstores.neo4j_vector import remove_lucene_chars\n",
    "from langchain_core.output_parsers import StrOutputParser\n",
    "from langchain_core.runnables import  RunnablePassthrough"
   ]
  },
  {
   "cell_type": "code",
   "execution_count": 3,
   "metadata": {},
   "outputs": [
    {
     "data": {
      "text/plain": [
       "[Document(metadata={'source': 'Elon.txt'}, page_content=\"Elon Reeve Musk FRS (/ˈiːlɒn/; born June 28, 1971) is a businessman and investor known for his key roles in the space company SpaceX and the automotive company Tesla, Inc. Other involvements include ownership of X Corp., the company that operates the social media platform X (formerly Twitter), and his role in the founding of the Boring Company, xAI, Neuralink, and OpenAI. He is the wealthiest individual in the world; as of November 2024 Forbes estimates his net worth to be US$304 billion.[3]\\n\\nMusk was born in Pretoria, South Africa, to Maye (née Haldeman), a model, and Errol Musk, a businessman and engineer. Musk briefly attended the University of Pretoria before immigrating to Canada at the age of 18, acquiring citizenship through his Canadian-born mother. Two years later he matriculated at Queen's University at Kingston in Canada. Musk later transferred to the University of Pennsylvania and received bachelor's degrees in economics and physics. He moved to California in 1995 to attend Stanford University but never enrolled in classes, and with his brother Kimbal co-founded the online city guide software company Zip2. The startup was acquired by Compaq for $307 million in 1999. That same year, Musk co-founded X.com, a direct bank. X.com merged with Confinity in 2000 to form PayPal. In 2002, Musk acquired US citizenship, and that October eBay acquired PayPal for $1.5 billion. Using $100 million of the money he made from the sale of PayPal, Musk founded SpaceX, a spaceflight services company, in 2002.\\n\\nIn 2004, Musk was an early investor in electric-vehicle manufacturer Tesla Motors, Inc. (later Tesla, Inc.), providing most of the initial financing and assuming the position of the company's chairman. He later became the product architect and, in 2008, the CEO. In 2006, Musk helped create SolarCity, a solar energy company that was acquired by Tesla in 2016 and became Tesla Energy. In 2013, he proposed a hyperloop high-speed vactrain transportation system. In 2015, he co-founded OpenAI, a nonprofit artificial intelligence research company. The following year Musk co-founded Neuralink, a neurotechnology company developing brain–computer interfaces, and The Boring Company, a tunnel construction company. In 2018 the U.S. Securities and Exchange Commission (SEC) sued Musk, alleging that he had falsely announced that he had secured funding for a private takeover of Tesla. To settle the case Musk stepped down as the chairman of Tesla and paid a $20 million fine. In 2022, he acquired Twitter for $44 billion, merged the company into the newly-created X Corp. and rebranded the service as X the following year. In March 2023, Musk founded xAI, an artificial-intelligence company.\\n\\nMusk's actions and expressed views have made him a polarizing figure. He has been criticized for making unscientific and misleading statements, including COVID-19 misinformation, promoting right-wing conspiracy theories, and endorsing an antisemitic trope; he has since apologized for the latter. His ownership of Twitter has been controversial because of the layoffs of large numbers of employees, an increase in hate speech, misinformation and disinformation posts on the website, and changes to website features, including verification. In early 2024, Musk became active in American politics as a vocal and financial supporter of Donald Trump, becoming Trump's second-largest individual donor in October 2024.\")]"
      ]
     },
     "execution_count": 3,
     "metadata": {},
     "output_type": "execute_result"
    }
   ],
   "source": [
    "graph = Neo4jGraph()\n",
    "loader = TextLoader(file_path=\"Elon.txt\", encoding=\"utf8\")\n",
    "docs = loader.load()\n",
    "docs"
   ]
  },
  {
   "cell_type": "code",
   "execution_count": 4,
   "metadata": {},
   "outputs": [
    {
     "data": {
      "text/plain": [
       "[Document(metadata={'source': 'Elon.txt'}, page_content='Elon Reeve Musk FRS (/ˈiːlɒn/; born June 28, 1971) is a businessman and investor known for his key roles in the space company SpaceX and the automotive company Tesla, Inc. Other involvements include'),\n",
       " Document(metadata={'source': 'Elon.txt'}, page_content='include ownership of X Corp., the company that operates the social media platform X (formerly Twitter), and his role in the founding of the Boring Company, xAI, Neuralink, and OpenAI. He is the'),\n",
       " Document(metadata={'source': 'Elon.txt'}, page_content='OpenAI. He is the wealthiest individual in the world; as of November 2024 Forbes estimates his net worth to be US$304 billion.[3]'),\n",
       " Document(metadata={'source': 'Elon.txt'}, page_content='Musk was born in Pretoria, South Africa, to Maye (née Haldeman), a model, and Errol Musk, a businessman and engineer. Musk briefly attended the University of Pretoria before immigrating to Canada at'),\n",
       " Document(metadata={'source': 'Elon.txt'}, page_content=\"to Canada at the age of 18, acquiring citizenship through his Canadian-born mother. Two years later he matriculated at Queen's University at Kingston in Canada. Musk later transferred to the\"),\n",
       " Document(metadata={'source': 'Elon.txt'}, page_content=\"transferred to the University of Pennsylvania and received bachelor's degrees in economics and physics. He moved to California in 1995 to attend Stanford University but never enrolled in classes, and\"),\n",
       " Document(metadata={'source': 'Elon.txt'}, page_content='in classes, and with his brother Kimbal co-founded the online city guide software company Zip2. The startup was acquired by Compaq for $307 million in 1999. That same year, Musk co-founded X.com, a'),\n",
       " Document(metadata={'source': 'Elon.txt'}, page_content='co-founded X.com, a direct bank. X.com merged with Confinity in 2000 to form PayPal. In 2002, Musk acquired US citizenship, and that October eBay acquired PayPal for $1.5 billion. Using $100 million'),\n",
       " Document(metadata={'source': 'Elon.txt'}, page_content='Using $100 million of the money he made from the sale of PayPal, Musk founded SpaceX, a spaceflight services company, in 2002.'),\n",
       " Document(metadata={'source': 'Elon.txt'}, page_content=\"In 2004, Musk was an early investor in electric-vehicle manufacturer Tesla Motors, Inc. (later Tesla, Inc.), providing most of the initial financing and assuming the position of the company's\"),\n",
       " Document(metadata={'source': 'Elon.txt'}, page_content=\"of the company's chairman. He later became the product architect and, in 2008, the CEO. In 2006, Musk helped create SolarCity, a solar energy company that was acquired by Tesla in 2016 and became\"),\n",
       " Document(metadata={'source': 'Elon.txt'}, page_content='in 2016 and became Tesla Energy. In 2013, he proposed a hyperloop high-speed vactrain transportation system. In 2015, he co-founded OpenAI, a nonprofit artificial intelligence research company. The'),\n",
       " Document(metadata={'source': 'Elon.txt'}, page_content='company. The following year Musk co-founded Neuralink, a neurotechnology company developing brain–computer interfaces, and The Boring Company, a tunnel construction company. In 2018 the U.S.'),\n",
       " Document(metadata={'source': 'Elon.txt'}, page_content='In 2018 the U.S. Securities and Exchange Commission (SEC) sued Musk, alleging that he had falsely announced that he had secured funding for a private takeover of Tesla. To settle the case Musk'),\n",
       " Document(metadata={'source': 'Elon.txt'}, page_content='the case Musk stepped down as the chairman of Tesla and paid a $20 million fine. In 2022, he acquired Twitter for $44 billion, merged the company into the newly-created X Corp. and rebranded the'),\n",
       " Document(metadata={'source': 'Elon.txt'}, page_content='and rebranded the service as X the following year. In March 2023, Musk founded xAI, an artificial-intelligence company.'),\n",
       " Document(metadata={'source': 'Elon.txt'}, page_content=\"Musk's actions and expressed views have made him a polarizing figure. He has been criticized for making unscientific and misleading statements, including COVID-19 misinformation, promoting right-wing\"),\n",
       " Document(metadata={'source': 'Elon.txt'}, page_content='right-wing conspiracy theories, and endorsing an antisemitic trope; he has since apologized for the latter. His ownership of Twitter has been controversial because of the layoffs of large numbers of'),\n",
       " Document(metadata={'source': 'Elon.txt'}, page_content='of large numbers of employees, an increase in hate speech, misinformation and disinformation posts on the website, and changes to website features, including verification. In early 2024, Musk became'),\n",
       " Document(metadata={'source': 'Elon.txt'}, page_content=\"2024, Musk became active in American politics as a vocal and financial supporter of Donald Trump, becoming Trump's second-largest individual donor in October 2024.\")]"
      ]
     },
     "execution_count": 4,
     "metadata": {},
     "output_type": "execute_result"
    }
   ],
   "source": [
    "text_splitter = RecursiveCharacterTextSplitter(chunk_size=200, chunk_overlap = 20)\n",
    "documents = text_splitter.split_documents(documents=docs)\n",
    "documents "
   ]
  },
  {
   "cell_type": "code",
   "execution_count": 5,
   "metadata": {},
   "outputs": [],
   "source": [
    "# Configuring the LLM (Llama3) from GROQ:\n",
    "groq_api_key = os.getenv(\"GROQ_API_KEY\")\n",
    "\n",
    "\n",
    "llm = ChatGroq(groq_api_key=groq_api_key,\n",
    "               model=\"Llama3-8b-8192\")"
   ]
  },
  {
   "cell_type": "code",
   "execution_count": 6,
   "metadata": {},
   "outputs": [],
   "source": [
    "llm_transformer = LLMGraphTransformer(llm=llm)\n",
    "graph_documents = llm_transformer.convert_to_graph_documents(documents)\n"
   ]
  },
  {
   "cell_type": "code",
   "execution_count": 7,
   "metadata": {},
   "outputs": [
    {
     "data": {
      "text/plain": [
       "[GraphDocument(nodes=[Node(id='Elon Reeve Musk', type='Person')], relationships=[Relationship(source=Node(id='Elon Reeve Musk', type='Person'), target=Node(id='Spacex', type='Company'), type='WORKS_FOR'), Relationship(source=Node(id='Elon Reeve Musk', type='Person'), target=Node(id='Tesla, Inc.', type='Company'), type='WORKS_FOR')], source=Document(metadata={'source': 'Elon.txt'}, page_content='Elon Reeve Musk FRS (/ˈiːlɒn/; born June 28, 1971) is a businessman and investor known for his key roles in the space company SpaceX and the automotive company Tesla, Inc. Other involvements include')),\n",
       " GraphDocument(nodes=[Node(id='Elon_Musk', type='Person')], relationships=[Relationship(source=Node(id='Elon_Musk', type='Person'), target=Node(id='X_Corp', type='Organization'), type='OWNS')], source=Document(metadata={'source': 'Elon.txt'}, page_content='include ownership of X Corp., the company that operates the social media platform X (formerly Twitter), and his role in the founding of the Boring Company, xAI, Neuralink, and OpenAI. He is the')),\n",
       " GraphDocument(nodes=[Node(id='Openai', type='Organization')], relationships=[Relationship(source=Node(id='Openai', type='Organization'), target=Node(id='Person', type='Person'), type='ASSOCIATED_WITH'), Relationship(source=Node(id='Person', type='Person'), target=Node(id='Openai', type='Organization'), type='ASSOCIATED_WITH')], source=Document(metadata={'source': 'Elon.txt'}, page_content='OpenAI. He is the wealthiest individual in the world; as of November 2024 Forbes estimates his net worth to be US$304 billion.[3]')),\n",
       " GraphDocument(nodes=[Node(id='Musk', type='Person')], relationships=[Relationship(source=Node(id='Musk', type='Person'), target=Node(id='Pretoria', type='Location'), type='BORN_IN')], source=Document(metadata={'source': 'Elon.txt'}, page_content='Musk was born in Pretoria, South Africa, to Maye (née Haldeman), a model, and Errol Musk, a businessman and engineer. Musk briefly attended the University of Pretoria before immigrating to Canada at')),\n",
       " GraphDocument(nodes=[Node(id='Elon_Musk', type='Person'), Node(id='Canada', type='Country'), Node(id='Queen_S_University_At_Kingston', type='University')], relationships=[Relationship(source=Node(id='Elon_Musk', type='Person'), target=Node(id='Canada', type='Country'), type='BORN_IN'), Relationship(source=Node(id='Elon_Musk', type='Person'), target=Node(id='Canada', type='Country'), type='ACQUIRED_CITIZENSHIP'), Relationship(source=Node(id='Elon_Musk', type='Person'), target=Node(id='Queen_S_University_At_Kingston', type='University'), type='STUDIED_AT')], source=Document(metadata={'source': 'Elon.txt'}, page_content=\"to Canada at the age of 18, acquiring citizenship through his Canadian-born mother. Two years later he matriculated at Queen's University at Kingston in Canada. Musk later transferred to the\")),\n",
       " GraphDocument(nodes=[Node(id='John_Doe', type='Person')], relationships=[Relationship(source=Node(id='John_Doe', type='Person'), target=Node(id='University_Of_Pennsylvania', type='University'), type='EDUCATED_AT'), Relationship(source=Node(id='John_Doe', type='Person'), target=Node(id='Stanford_University', type='University'), type='MOVED_TO')], source=Document(metadata={'source': 'Elon.txt'}, page_content=\"transferred to the University of Pennsylvania and received bachelor's degrees in economics and physics. He moved to California in 1995 to attend Stanford University but never enrolled in classes, and\")),\n",
       " GraphDocument(nodes=[Node(id='Elon Musk', type='Person'), Node(id='Kimbal Musk', type='Person'), Node(id='Zip2', type='Company'), Node(id='Compaq', type='Company'), Node(id='X.Com', type='Company')], relationships=[Relationship(source=Node(id='Elon Musk', type='Person'), target=Node(id='Zip2', type='Company'), type='FOUNDER'), Relationship(source=Node(id='Elon Musk', type='Person'), target=Node(id='Kimbal Musk', type='Person'), type='BROTHER'), Relationship(source=Node(id='Zip2', type='Company'), target=Node(id='Compaq', type='Company'), type='ACQUIRED'), Relationship(source=Node(id='Elon Musk', type='Person'), target=Node(id='X.Com', type='Company'), type='FOUNDER')], source=Document(metadata={'source': 'Elon.txt'}, page_content='in classes, and with his brother Kimbal co-founded the online city guide software company Zip2. The startup was acquired by Compaq for $307 million in 1999. That same year, Musk co-founded X.com, a')),\n",
       " GraphDocument(nodes=[Node(id='X.Com', type='Organization'), Node(id='Confinity', type='Organization'), Node(id='Paypal', type='Organization'), Node(id='Musk', type='Person'), Node(id='Ebay', type='Organization')], relationships=[Relationship(source=Node(id='X.Com', type='Organization'), target=Node(id='Confinity', type='Organization'), type='MERGED_TO'), Relationship(source=Node(id='Confinity', type='Organization'), target=Node(id='Paypal', type='Organization'), type='FORMED'), Relationship(source=Node(id='Musk', type='Person'), target=Node(id='Paypal', type='Organization'), type='ACQUIRED'), Relationship(source=Node(id='Ebay', type='Organization'), target=Node(id='Paypal', type='Organization'), type='ACQUIRED')], source=Document(metadata={'source': 'Elon.txt'}, page_content='co-founded X.com, a direct bank. X.com merged with Confinity in 2000 to form PayPal. In 2002, Musk acquired US citizenship, and that October eBay acquired PayPal for $1.5 billion. Using $100 million')),\n",
       " GraphDocument(nodes=[Node(id='John Musk', type='Person'), Node(id='Paypal', type='Organization'), Node(id='Spacex', type='Organization')], relationships=[Relationship(source=Node(id='John Musk', type='Person'), target=Node(id='Paypal', type='Organization'), type='FOUNDED'), Relationship(source=Node(id='John Musk', type='Person'), target=Node(id='Spacex', type='Organization'), type='FOUNDED')], source=Document(metadata={'source': 'Elon.txt'}, page_content='Using $100 million of the money he made from the sale of PayPal, Musk founded SpaceX, a spaceflight services company, in 2002.')),\n",
       " GraphDocument(nodes=[Node(id='Elon Musk', type='Person'), Node(id='Tesla Motors, Inc.', type='Company')], relationships=[Relationship(source=Node(id='Elon Musk', type='Person'), target=Node(id='Tesla Motors, Inc.', type='Company'), type='INVESTOR')], source=Document(metadata={'source': 'Elon.txt'}, page_content=\"In 2004, Musk was an early investor in electric-vehicle manufacturer Tesla Motors, Inc. (later Tesla, Inc.), providing most of the initial financing and assuming the position of the company's\")),\n",
       " GraphDocument(nodes=[Node(id='John Doe', type='Person')], relationships=[Relationship(source=Node(id='John Doe', type='Person'), target=Node(id='John Doe', type='Person'), type='PROFESSOR')], source=Document(metadata={'source': 'Elon.txt'}, page_content=\"of the company's chairman. He later became the product architect and, in 2008, the CEO. In 2006, Musk helped create SolarCity, a solar energy company that was acquired by Tesla in 2016 and became\")),\n",
       " GraphDocument(nodes=[Node(id='Elon_Musk', type='Person')], relationships=[Relationship(source=Node(id='Elon_Musk', type='Person'), target=Node(id='Tesla_Energy', type='Company'), type='FOUNDED'), Relationship(source=Node(id='Elon_Musk', type='Person'), target=Node(id='Openai', type='Company'), type='CO_FOUNDED'), Relationship(source=Node(id='Elon_Musk', type='Person'), target=Node(id='Hyperloop', type='System'), type='PROPOSED')], source=Document(metadata={'source': 'Elon.txt'}, page_content='in 2016 and became Tesla Energy. In 2013, he proposed a hyperloop high-speed vactrain transportation system. In 2015, he co-founded OpenAI, a nonprofit artificial intelligence research company. The')),\n",
       " GraphDocument(nodes=[Node(id='Company', type='Company')], relationships=[], source=Document(metadata={'source': 'Elon.txt'}, page_content='company. The following year Musk co-founded Neuralink, a neurotechnology company developing brain–computer interfaces, and The Boring Company, a tunnel construction company. In 2018 the U.S.')),\n",
       " GraphDocument(nodes=[Node(id='Musk', type='Person'), Node(id='Tesla', type='Company'), Node(id='U.S. Securities And Exchange Commission', type='Organization')], relationships=[Relationship(source=Node(id='Musk', type='Person'), target=Node(id='Tesla', type='Company'), type='PROFESSOR'), Relationship(source=Node(id='Musk', type='Person'), target=Node(id='U.S. Securities And Exchange Commission', type='Organization'), type='PROSECUTOR')], source=Document(metadata={'source': 'Elon.txt'}, page_content='In 2018 the U.S. Securities and Exchange Commission (SEC) sued Musk, alleging that he had falsely announced that he had secured funding for a private takeover of Tesla. To settle the case Musk')),\n",
       " GraphDocument(nodes=[Node(id='Musk', type='Person'), Node(id='Tesla', type='Company'), Node(id='Twitter', type='Company'), Node(id='X Corp', type='Company')], relationships=[Relationship(source=Node(id='Musk', type='Person'), target=Node(id='Tesla', type='Company'), type='CHIEF_EXECUTIVE_OFFICER'), Relationship(source=Node(id='Musk', type='Person'), target=Node(id='Twitter', type='Company'), type='OWNER'), Relationship(source=Node(id='Musk', type='Person'), target=Node(id='X Corp', type='Company'), type='OWNER'), Relationship(source=Node(id='Tesla', type='Company'), target=Node(id='Musk', type='Person'), type='EMPLOYER'), Relationship(source=Node(id='Twitter', type='Company'), target=Node(id='Musk', type='Person'), type='EMPLOYER'), Relationship(source=Node(id='X Corp', type='Company'), target=Node(id='Musk', type='Person'), type='EMPLOYER')], source=Document(metadata={'source': 'Elon.txt'}, page_content='the case Musk stepped down as the chairman of Tesla and paid a $20 million fine. In 2022, he acquired Twitter for $44 billion, merged the company into the newly-created X Corp. and rebranded the')),\n",
       " GraphDocument(nodes=[Node(id='John Doe', type='Person')], relationships=[Relationship(source=Node(id='John Doe', type='Person'), target=Node(id='Xai', type='Company'), type='FOUNDER')], source=Document(metadata={'source': 'Elon.txt'}, page_content='and rebranded the service as X the following year. In March 2023, Musk founded xAI, an artificial-intelligence company.')),\n",
       " GraphDocument(nodes=[Node(id='Musk', type='Person')], relationships=[Relationship(source=Node(id='Musk', type='Person'), target=Node(id='Polarizing Figure', type='Concept'), type='HAS_PROPERTY'), Relationship(source=Node(id='Musk', type='Person'), target=Node(id='Unscientific Statements', type='Concept'), type='MADE'), Relationship(source=Node(id='Musk', type='Person'), target=Node(id='Misleading Statements', type='Concept'), type='MADE'), Relationship(source=Node(id='Musk', type='Person'), target=Node(id='Covid-19 Misinformation', type='Concept'), type='PROMOTED'), Relationship(source=Node(id='Musk', type='Person'), target=Node(id='Right-Wing', type='Concept'), type='PROMOTED')], source=Document(metadata={'source': 'Elon.txt'}, page_content=\"Musk's actions and expressed views have made him a polarizing figure. He has been criticized for making unscientific and misleading statements, including COVID-19 misinformation, promoting right-wing\")),\n",
       " GraphDocument(nodes=[Node(id='Elon_Musk', type='Person'), Node(id='Twitter', type='Organization')], relationships=[Relationship(source=Node(id='Elon_Musk', type='Person'), target=Node(id='Twitter', type='Organization'), type='OWNER'), Relationship(source=Node(id='Elon_Musk', type='Person'), target=Node(id='Right-Wing_Conspiracy_Theories', type='Concept'), type='ASSOCIATED_WITH'), Relationship(source=Node(id='Elon_Musk', type='Person'), target=Node(id='Antisemitic_Trope', type='Concept'), type='ENDORSED')], source=Document(metadata={'source': 'Elon.txt'}, page_content='right-wing conspiracy theories, and endorsing an antisemitic trope; he has since apologized for the latter. His ownership of Twitter has been controversial because of the layoffs of large numbers of')),\n",
       " GraphDocument(nodes=[Node(id='Elon Musk', type='Person'), Node(id='Twitter', type='Platform')], relationships=[Relationship(source=Node(id='Elon Musk', type='Person'), target=Node(id='Twitter', type='Platform'), type='OWNER')], source=Document(metadata={'source': 'Elon.txt'}, page_content='of large numbers of employees, an increase in hate speech, misinformation and disinformation posts on the website, and changes to website features, including verification. In early 2024, Musk became')),\n",
       " GraphDocument(nodes=[Node(id='Musk', type='Person'), Node(id='Donald Trump', type='Person')], relationships=[Relationship(source=Node(id='Musk', type='Person'), target=Node(id='Donald Trump', type='Person'), type='SUPPORTED')], source=Document(metadata={'source': 'Elon.txt'}, page_content=\"2024, Musk became active in American politics as a vocal and financial supporter of Donald Trump, becoming Trump's second-largest individual donor in October 2024.\"))]"
      ]
     },
     "execution_count": 7,
     "metadata": {},
     "output_type": "execute_result"
    }
   ],
   "source": [
    "graph_documents"
   ]
  },
  {
   "cell_type": "code",
   "execution_count": 8,
   "metadata": {},
   "outputs": [],
   "source": [
    "graph.add_graph_documents(\n",
    "    graph_documents,\n",
    "    baseEntityLabel = True,\n",
    "    include_source = True\n",
    ")"
   ]
  },
  {
   "cell_type": "code",
   "execution_count": 9,
   "metadata": {},
   "outputs": [
    {
     "data": {
      "application/vnd.jupyter.widget-view+json": {
       "model_id": "7655cb0311994d41bb7fed0c39244a5b",
       "version_major": 2,
       "version_minor": 0
      },
      "text/plain": [
       "GraphWidget(layout=Layout(height='800px', width='100%'))"
      ]
     },
     "metadata": {},
     "output_type": "display_data"
    }
   ],
   "source": [
    "def show_graph():\n",
    "    driver = GraphDatabase.driver(\n",
    "        uri = os.environ[\"NEO4J_URI\"],\n",
    "        auth = (os.environ[\"NEO4J_USERNAME\"],\n",
    "                os.environ[\"NEO4J_PASSWORD\"]))\n",
    "    session = driver.session()\n",
    "    widget = GraphWidget(graph = session.run(\"Match (s)-[r:!MENTIONS]->(t) Return s,r,t\").graph())\n",
    "    widget.node_label_mapping = \"id\"\n",
    "    return widget\n",
    "\n",
    "show_graph()"
   ]
  },
  {
   "cell_type": "code",
   "execution_count": 10,
   "metadata": {},
   "outputs": [],
   "source": [
    "# Embedding the graph DB into a vector form\n",
    "vectorized_graph_db = Neo4jVector.from_existing_graph(\n",
    "    OllamaEmbeddings(),\n",
    "    search_type = \"hybrid\",\n",
    "    node_label = \"document\",\n",
    "    text_node_properties = [\"text\"],\n",
    "    embedding_node_property = \"embedding\"\n",
    ")\n"
   ]
  },
  {
   "cell_type": "code",
   "execution_count": 11,
   "metadata": {},
   "outputs": [],
   "source": [
    "vector_retirever = vectorized_graph_db.as_retriever()"
   ]
  },
  {
   "cell_type": "code",
   "execution_count": 12,
   "metadata": {},
   "outputs": [],
   "source": [
    "driver = GraphDatabase.driver(\n",
    "        uri = os.environ[\"NEO4J_URI\"],\n",
    "        auth = (os.environ[\"NEO4J_USERNAME\"],\n",
    "                os.environ[\"NEO4J_PASSWORD\"]))\n",
    "\n",
    "\n",
    "def create_fulltext_index(tx):\n",
    "    query = '''\n",
    "    CREATE FULLTEXT INDEX `fulltext_entity_id` \n",
    "    FOR (n:__Entity__) \n",
    "    ON EACH [n.id];\n",
    "    '''\n",
    "    tx.run(query)\n",
    "\n",
    "# Function to execute the query\n",
    "def create_index():\n",
    "    with driver.session() as session:\n",
    "        session.execute_write(create_fulltext_index)\n",
    "        print(\"Fulltext index created successfully.\")\n",
    "\n",
    "# Call the function to create the index\n",
    "try:\n",
    "    create_index()\n",
    "except:\n",
    "    pass\n",
    "\n",
    "# Close the driver connection\n",
    "driver.close()"
   ]
  },
  {
   "cell_type": "code",
   "execution_count": 13,
   "metadata": {},
   "outputs": [],
   "source": [
    "from typing import List\n",
    "\n",
    "class Entities(BaseModel):\n",
    "    \"Identifying information about entities.\"\n",
    "\n",
    "    names: List[str] = Field(\n",
    "        ...,\n",
    "        description=\"All the person, organization, or business entities that\" \n",
    "        \"appear in the text\",\n",
    "    )\n",
    "\n",
    "prompt = ChatPromptTemplate.from_messages(\n",
    "    [\n",
    "        (\n",
    "            \"system\",\n",
    "            \"You are extracting organization and person entities from the text.\",\n",
    "        ),\n",
    "        (\n",
    "            \"human\",\n",
    "            \"Use the given format to extract information from the following \"\n",
    "            \"input: {question}\",\n",
    "        ),\n",
    "    ]\n",
    ")\n",
    "\n",
    "\n",
    "entity_chain = llm.with_structured_output(Entities)"
   ]
  },
  {
   "cell_type": "code",
   "execution_count": 14,
   "metadata": {},
   "outputs": [
    {
     "data": {
      "text/plain": [
       "Entities(names=['Elon Musk', 'SpaceX', 'CEO', 'Founder'])"
      ]
     },
     "execution_count": 14,
     "metadata": {},
     "output_type": "execute_result"
    }
   ],
   "source": [
    "entity_chain.invoke(\"Who is Elon Musk and what is the relationship between him and SpaceX?\")"
   ]
  },
  {
   "cell_type": "code",
   "execution_count": 15,
   "metadata": {},
   "outputs": [],
   "source": [
    "def generate_full_text_query(input: str) -> str:\n",
    "    words = [el for el in remove_lucene_chars(input).split() if el]\n",
    "    if not words:\n",
    "        return \"\"\n",
    "    full_text_query = \" AND \".join([f\"{word}~2\" for word in words])\n",
    "    print(f\"Generated Query: {full_text_query}\")\n",
    "    return full_text_query.strip()\n",
    "\n",
    "\n",
    "# Fulltext index query\n",
    "def graph_retriever(question: str) -> str:\n",
    "    \"\"\"\n",
    "    Collects the neighborhood of entities mentioned\n",
    "    in the question\n",
    "    \"\"\"\n",
    "    result = \"\"\n",
    "    entities = entity_chain.invoke(question)\n",
    "    for entity in entities.names:\n",
    "        response = graph.query(\n",
    "            \"\"\"CALL db.index.fulltext.queryNodes('fulltext_entity_id', $query, {limit:2})\n",
    "            YIELD node,score\n",
    "            CALL {\n",
    "              WITH node\n",
    "              MATCH (node)-[r:!MENTIONS]->(neighbor)\n",
    "              RETURN node.id + ' - ' + type(r) + ' -> ' + neighbor.id AS output\n",
    "              UNION ALL\n",
    "              WITH node\n",
    "              MATCH (node)<-[r:!MENTIONS]-(neighbor)\n",
    "              RETURN neighbor.id + ' - ' + type(r) + ' -> ' +  node.id AS output\n",
    "            }\n",
    "            RETURN output LIMIT 50\n",
    "            \"\"\",\n",
    "            {\"query\": entity},\n",
    "        )\n",
    "        result += \"\\n\".join([el['output'] for el in response])\n",
    "    return result"
   ]
  },
  {
   "cell_type": "code",
   "execution_count": 16,
   "metadata": {},
   "outputs": [
    {
     "name": "stderr",
     "output_type": "stream",
     "text": [
      "Received notification from DBMS server: {severity: WARNING} {code: Neo.ClientNotification.Statement.FeatureDeprecationWarning} {category: DEPRECATION} {title: This feature is deprecated and will be removed in future versions.} {description: CALL subquery without a variable scope clause is now deprecated. Use CALL (node, node) { ... }} {position: line: 3, column: 13, offset: 116} for query: \"CALL db.index.fulltext.queryNodes('fulltext_entity_id', $query, {limit:2})\\n            YIELD node,score\\n            CALL {\\n              WITH node\\n              MATCH (node)-[r:!MENTIONS]->(neighbor)\\n              RETURN node.id + ' - ' + type(r) + ' -> ' + neighbor.id AS output\\n              UNION ALL\\n              WITH node\\n              MATCH (node)<-[r:!MENTIONS]-(neighbor)\\n              RETURN neighbor.id + ' - ' + type(r) + ' -> ' +  node.id AS output\\n            }\\n            RETURN output LIMIT 50\\n            \"\n",
      "Received notification from DBMS server: {severity: WARNING} {code: Neo.ClientNotification.Statement.FeatureDeprecationWarning} {category: DEPRECATION} {title: This feature is deprecated and will be removed in future versions.} {description: CALL subquery without a variable scope clause is now deprecated. Use CALL (node, node) { ... }} {position: line: 3, column: 13, offset: 116} for query: \"CALL db.index.fulltext.queryNodes('fulltext_entity_id', $query, {limit:2})\\n            YIELD node,score\\n            CALL {\\n              WITH node\\n              MATCH (node)-[r:!MENTIONS]->(neighbor)\\n              RETURN node.id + ' - ' + type(r) + ' -> ' + neighbor.id AS output\\n              UNION ALL\\n              WITH node\\n              MATCH (node)<-[r:!MENTIONS]-(neighbor)\\n              RETURN neighbor.id + ' - ' + type(r) + ' -> ' +  node.id AS output\\n            }\\n            RETURN output LIMIT 50\\n            \"\n"
     ]
    },
    {
     "name": "stdout",
     "output_type": "stream",
     "text": [
      "Elon Musk - PROFESSOR -> Openai\n",
      "Elon Musk - PROFESSOR -> Tesla Energy\n",
      "Elon Musk - PROFESSOR -> Hyperloop\n",
      "Elon Musk - PROFESSOR -> Tesla\n",
      "Elon Musk - PROFESSOR -> Twitter\n",
      "Elon Musk - OWNS -> X Corp.\n",
      "Elon Musk - FOUNDED -> Xai\n",
      "Elon Musk - FOUNDED -> Neuralink\n",
      "Elon Musk - FOUNDED -> Openai\n",
      "Elon Musk - FOUNDED -> Boring Company\n",
      "Elon Musk - BROKER -> Kimbal Musk\n",
      "Elon Musk - CO_FOUNDER -> Zip2\n",
      "Elon Musk - CO_FOUNDER -> X.Com\n",
      "Elon Musk - FOUNDER -> Zip2\n",
      "Elon Musk - FOUNDER -> X.Com\n",
      "Elon Musk - INVESTOR -> Tesla Motors, Inc.\n",
      "Elon Musk - CHAIRMAN_OF -> Tesla\n",
      "Elon Musk - FUNDING_PROVIDER -> Tesla\n",
      "Elon Musk - FUNDING_PROVIDER -> X Corp\n",
      "Elon Musk - ACQUIRER -> Twitter\n",
      "Elon Musk - ENDORSES -> Right-Wing Conspiracy Theories\n",
      "Elon Musk - ENDORSES -> Antisemitic Trope\n",
      "Elon Musk - OWNED -> Twitter\n",
      "Elon Musk - OWNER -> Twitter\n",
      "Elon Musk - OPERATES -> X\n",
      "Elon Musk - BROTHER -> Kimbal Musk\n",
      "Elon Musk - COFOUNDER -> Zip2\n",
      "Elon Musk - COFOUNDER -> X.Com\n",
      "Right-Wing Conspiracy Theories - ENDORSE -> Elon Musk\n",
      "Elon Reeve Musk - WORKS_FOR -> Spacex\n",
      "Elon Reeve Musk - WORKS_FOR -> Tesla, Inc.Elon_Musk - FOUNDED -> Neuralink\n",
      "Musk - FOUNDED -> Neuralink\n",
      "Elon Musk - FOUNDED -> Neuralink\n",
      "Musk - FOUNDER -> Neuralink\n"
     ]
    }
   ],
   "source": [
    "print(graph_retriever(\"Elon Musk founded Neuralink\"))"
   ]
  },
  {
   "cell_type": "code",
   "execution_count": 22,
   "metadata": {},
   "outputs": [],
   "source": [
    "def full_retriever(question: str):\n",
    "    graph_data = graph_retriever(question)\n",
    "    vector_data = [el.page_content for el in vector_retirever.invoke(question)]\n",
    "    final_data = f\"\"\"Graph data:\n",
    "{graph_data}\n",
    "vector data:\n",
    "{\"#Document \". join(vector_data)}\n",
    "    \"\"\"\n",
    "    return final_data"
   ]
  },
  {
   "cell_type": "code",
   "execution_count": 23,
   "metadata": {},
   "outputs": [],
   "source": [
    "template = \"\"\"Answer the question based only on the following context:\n",
    "{context}\n",
    "\n",
    "Question: {question}\n",
    "Use natural language and be concise.\n",
    "Answer:\"\"\"\n",
    "prompt = ChatPromptTemplate.from_template(template)\n",
    "\n",
    "chain = (\n",
    "        {\n",
    "            \"context\": full_retriever,\n",
    "            \"question\": RunnablePassthrough(),\n",
    "        }\n",
    "    | prompt\n",
    "    | llm\n",
    "    | StrOutputParser()\n",
    ")"
   ]
  },
  {
   "cell_type": "code",
   "execution_count": 25,
   "metadata": {},
   "outputs": [
    {
     "name": "stderr",
     "output_type": "stream",
     "text": [
      "Received notification from DBMS server: {severity: WARNING} {code: Neo.ClientNotification.Statement.FeatureDeprecationWarning} {category: DEPRECATION} {title: This feature is deprecated and will be removed in future versions.} {description: CALL subquery without a variable scope clause is now deprecated. Use CALL (node, node) { ... }} {position: line: 3, column: 13, offset: 116} for query: \"CALL db.index.fulltext.queryNodes('fulltext_entity_id', $query, {limit:2})\\n            YIELD node,score\\n            CALL {\\n              WITH node\\n              MATCH (node)-[r:!MENTIONS]->(neighbor)\\n              RETURN node.id + ' - ' + type(r) + ' -> ' + neighbor.id AS output\\n              UNION ALL\\n              WITH node\\n              MATCH (node)<-[r:!MENTIONS]-(neighbor)\\n              RETURN neighbor.id + ' - ' + type(r) + ' -> ' +  node.id AS output\\n            }\\n            RETURN output LIMIT 50\\n            \"\n",
      "Received notification from DBMS server: {severity: WARNING} {code: Neo.ClientNotification.Statement.FeatureDeprecationWarning} {category: DEPRECATION} {title: This feature is deprecated and will be removed in future versions.} {description: CALL subquery without a variable scope clause is now deprecated. Use CALL (node, node) { ... }} {position: line: 3, column: 13, offset: 116} for query: \"CALL db.index.fulltext.queryNodes('fulltext_entity_id', $query, {limit:2})\\n            YIELD node,score\\n            CALL {\\n              WITH node\\n              MATCH (node)-[r:!MENTIONS]->(neighbor)\\n              RETURN node.id + ' - ' + type(r) + ' -> ' + neighbor.id AS output\\n              UNION ALL\\n              WITH node\\n              MATCH (node)<-[r:!MENTIONS]-(neighbor)\\n              RETURN neighbor.id + ' - ' + type(r) + ' -> ' +  node.id AS output\\n            }\\n            RETURN output LIMIT 50\\n            \"\n",
      "Received notification from DBMS server: {severity: WARNING} {code: Neo.ClientNotification.Statement.FeatureDeprecationWarning} {category: DEPRECATION} {title: This feature is deprecated and will be removed in future versions.} {description: CALL subquery without a variable scope clause is now deprecated. Use CALL (node, node) { ... }} {position: line: 3, column: 13, offset: 116} for query: \"CALL db.index.fulltext.queryNodes('fulltext_entity_id', $query, {limit:2})\\n            YIELD node,score\\n            CALL {\\n              WITH node\\n              MATCH (node)-[r:!MENTIONS]->(neighbor)\\n              RETURN node.id + ' - ' + type(r) + ' -> ' + neighbor.id AS output\\n              UNION ALL\\n              WITH node\\n              MATCH (node)<-[r:!MENTIONS]-(neighbor)\\n              RETURN neighbor.id + ' - ' + type(r) + ' -> ' +  node.id AS output\\n            }\\n            RETURN output LIMIT 50\\n            \"\n",
      "Received notification from DBMS server: {severity: WARNING} {code: Neo.ClientNotification.Statement.FeatureDeprecationWarning} {category: DEPRECATION} {title: This feature is deprecated and will be removed in future versions.} {description: CALL subquery without a variable scope clause is now deprecated. Use CALL (node, node) { ... }} {position: line: 3, column: 13, offset: 116} for query: \"CALL db.index.fulltext.queryNodes('fulltext_entity_id', $query, {limit:2})\\n            YIELD node,score\\n            CALL {\\n              WITH node\\n              MATCH (node)-[r:!MENTIONS]->(neighbor)\\n              RETURN node.id + ' - ' + type(r) + ' -> ' + neighbor.id AS output\\n              UNION ALL\\n              WITH node\\n              MATCH (node)<-[r:!MENTIONS]-(neighbor)\\n              RETURN neighbor.id + ' - ' + type(r) + ' -> ' +  node.id AS output\\n            }\\n            RETURN output LIMIT 50\\n            \"\n",
      "Received notification from DBMS server: {severity: WARNING} {code: Neo.ClientNotification.Statement.FeatureDeprecationWarning} {category: DEPRECATION} {title: This feature is deprecated and will be removed in future versions.} {description: CALL subquery without a variable scope clause is now deprecated. Use CALL (node, node) { ... }} {position: line: 3, column: 13, offset: 116} for query: \"CALL db.index.fulltext.queryNodes('fulltext_entity_id', $query, {limit:2})\\n            YIELD node,score\\n            CALL {\\n              WITH node\\n              MATCH (node)-[r:!MENTIONS]->(neighbor)\\n              RETURN node.id + ' - ' + type(r) + ' -> ' + neighbor.id AS output\\n              UNION ALL\\n              WITH node\\n              MATCH (node)<-[r:!MENTIONS]-(neighbor)\\n              RETURN neighbor.id + ' - ' + type(r) + ' -> ' +  node.id AS output\\n            }\\n            RETURN output LIMIT 50\\n            \"\n",
      "Received notification from DBMS server: {severity: WARNING} {code: Neo.ClientNotification.Statement.FeatureDeprecationWarning} {category: DEPRECATION} {title: This feature is deprecated and will be removed in future versions.} {description: CALL subquery without a variable scope clause is now deprecated. Use CALL (node, node) { ... }} {position: line: 3, column: 13, offset: 116} for query: \"CALL db.index.fulltext.queryNodes('fulltext_entity_id', $query, {limit:2})\\n            YIELD node,score\\n            CALL {\\n              WITH node\\n              MATCH (node)-[r:!MENTIONS]->(neighbor)\\n              RETURN node.id + ' - ' + type(r) + ' -> ' + neighbor.id AS output\\n              UNION ALL\\n              WITH node\\n              MATCH (node)<-[r:!MENTIONS]-(neighbor)\\n              RETURN neighbor.id + ' - ' + type(r) + ' -> ' +  node.id AS output\\n            }\\n            RETURN output LIMIT 50\\n            \"\n",
      "Received notification from DBMS server: {severity: WARNING} {code: Neo.ClientNotification.Statement.FeatureDeprecationWarning} {category: DEPRECATION} {title: This feature is deprecated and will be removed in future versions.} {description: CALL subquery without a variable scope clause is now deprecated. Use CALL () { ... }} {position: line: 1, column: 1, offset: 0} for query: \"CALL { CALL db.index.vector.queryNodes($index, $k, $embedding) YIELD node, score WITH collect({node:node, score:score}) AS nodes, max(score) AS max UNWIND nodes AS n RETURN n.node AS node, (n.score / max) AS score UNION CALL db.index.fulltext.queryNodes($keyword_index, $query, {limit: $k}) YIELD node, score WITH collect({node:node, score:score}) AS nodes, max(score) AS max UNWIND nodes AS n RETURN n.node AS node, (n.score / max) AS score } WITH node, max(score) AS score ORDER BY score DESC LIMIT $k RETURN reduce(str='', k IN ['text'] | str + '\\\\n' + k + ': ' + coalesce(node[k], '')) AS text, node {.*, `embedding`: Null, id: Null, `text`: Null} AS metadata, score\"\n"
     ]
    },
    {
     "data": {
      "text/plain": [
       "'Elon Musk is a professor, founder, and CEO of several companies, including Neuralink, Openai, Boring Company, and Tesla. He is also a co-founder of Zip2 and X.Com, and has been involved with SpaceX. According to the graph data, Elon Musk is not directly related to the founding of PayPal, as John Doe is credited with founding the company. However, Elon Musk worked for PayPal before it was acquired by eBay.'"
      ]
     },
     "execution_count": 25,
     "metadata": {},
     "output_type": "execute_result"
    }
   ],
   "source": [
    "chain.invoke(input=\"Who is Elon Musk and what is the relationship between him and Paypal?\")"
   ]
  }
 ],
 "metadata": {
  "kernelspec": {
   "display_name": "venv",
   "language": "python",
   "name": "python3"
  },
  "language_info": {
   "codemirror_mode": {
    "name": "ipython",
    "version": 3
   },
   "file_extension": ".py",
   "mimetype": "text/x-python",
   "name": "python",
   "nbconvert_exporter": "python",
   "pygments_lexer": "ipython3",
   "version": "3.8.2"
  }
 },
 "nbformat": 4,
 "nbformat_minor": 2
}
